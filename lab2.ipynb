{
 "cells": [
  {
   "cell_type": "markdown",
   "id": "919e4978",
   "metadata": {},
   "source": [
    "1. Импорт библиотек"
   ]
  },
  {
   "cell_type": "code",
   "execution_count": 71,
   "id": "e67a9545",
   "metadata": {},
   "outputs": [],
   "source": [
    "import time\n",
    "from pathlib import Path\n",
    "from typing import Optional\n",
    "import torch\n",
    "import torchvision\n",
    "import torchvision.transforms as transforms\n",
    "import torch.nn as nn\n",
    "import torch.optim as optim\n",
    "import torch.nn.functional as F\n",
    "from torch.utils.data import DataLoader, random_split\n",
    "from torch.utils.tensorboard import SummaryWriter\n",
    "import matplotlib.pyplot as plt\n",
    "import numpy as np\n",
    "from tqdm import tqdm\n",
    "from sklearn.metrics import confusion_matrix, classification_report\n",
    "import seaborn as sns\n",
    "import pandas as pd"
   ]
  },
  {
   "cell_type": "markdown",
   "id": "483ed1b8",
   "metadata": {},
   "source": [
    "2. Выбор устройства для вычислений (CPU/GPU)"
   ]
  },
  {
   "cell_type": "code",
   "execution_count": 72,
   "id": "d0c75bb0",
   "metadata": {},
   "outputs": [
    {
     "name": "stdout",
     "output_type": "stream",
     "text": [
      "Используется устройство: cpu\n"
     ]
    }
   ],
   "source": [
    "device = torch.device(\"cuda\" if torch.cuda.is_available() else \"cpu\") # Выбор устройства\n",
    "print(\"Используется устройство:\", device) # Вывод выбранного устройства"
   ]
  },
  {
   "cell_type": "markdown",
   "id": "8d95cdae",
   "metadata": {},
   "source": [
    "3. Определение преобразований для данных"
   ]
  },
  {
   "cell_type": "code",
   "execution_count": 73,
   "id": "c89d003f",
   "metadata": {},
   "outputs": [],
   "source": [
    "# Для MNIST (черно-белые изображения 28x28 с одним каналом)\n",
    "transform = transforms.Compose([\n",
    "    transforms.ToTensor(),\n",
    "    transforms.Normalize((0.1307,), (0.3081,))  # Стандартные значения для MNIST\n",
    "])"
   ]
  },
  {
   "cell_type": "markdown",
   "id": "d8343eb8",
   "metadata": {},
   "source": [
    "4. Загрузка и разделение датасета MNIST"
   ]
  },
  {
   "cell_type": "code",
   "execution_count": 74,
   "id": "4530861c",
   "metadata": {},
   "outputs": [],
   "source": [
    "# Основной датасет\n",
    "trainset = torchvision.datasets.MNIST(\n",
    "    root='./data', # Путь к данным\n",
    "    train=True, # Тренировочный набор\n",
    "    download=True, # Скачивание, если данных нет\n",
    "    transform=transform # Преобразования к данным\n",
    ")\n",
    "\n",
    "testset = torchvision.datasets.MNIST(\n",
    "    root='./data', \n",
    "    train=False,\n",
    "    download=True, \n",
    "    transform=transform\n",
    ")\n",
    "\n",
    "# Разделяем тренировочные данные на обучение и валидацию\n",
    "train_dataset, val_dataset = random_split(trainset, [50000, 10000])\n",
    "\n",
    "classes = [str(i) for i in range(10)]  # Классы для MNIST: цифры 0-9"
   ]
  },
  {
   "cell_type": "markdown",
   "id": "1bbfe970",
   "metadata": {},
   "source": [
    "5. Функция для визуализации изображений"
   ]
  },
  {
   "cell_type": "code",
   "execution_count": 75,
   "id": "0148f4ab",
   "metadata": {},
   "outputs": [],
   "source": [
    "def imshow(img):\n",
    "    # Денормализация для MNIST\n",
    "    img = img * 0.3081 + 0.1307 # Обратная нормализация\n",
    "    npimg = img.numpy() # Преобразование в numpy\n",
    "    plt.imshow(npimg.squeeze(), cmap='gray')  # Убираем размерность канала для grayscale\n",
    "    plt.axis('off') # Отключаем оси\n"
   ]
  },
  {
   "cell_type": "markdown",
   "id": "31e59a6e",
   "metadata": {},
   "source": [
    "6. Определение архитектуры нейронной сети"
   ]
  },
  {
   "cell_type": "code",
   "execution_count": 76,
   "id": "ad5f5c06",
   "metadata": {},
   "outputs": [],
   "source": [
    "class NeuralNetwork(nn.Module): # Определение архитектуры нейронной сети\n",
    "    def __init__(self, input_size=28*28, hidden_size1=256, hidden_size2=128, num_classes=10, dropout_rate=0.2): # Параметры сети\n",
    "        super(NeuralNetwork, self).__init__() # Инициализация родительского класса\n",
    "        self.net = nn.Sequential( # Последовательная модель\n",
    "            nn.Flatten(), # Преобразование входа в вектор\n",
    "            nn.Linear(input_size, hidden_size1), # Первый полносвязный слой\n",
    "            nn.BatchNorm1d(hidden_size1), # Нормализация\n",
    "            nn.ReLU(), # Активация ReLU\n",
    "            nn.Dropout(dropout_rate), # Dropout для регуляризации \n",
    "            \n",
    "            nn.Linear(hidden_size1, hidden_size2),\n",
    "            nn.BatchNorm1d(hidden_size2),\n",
    "            nn.ReLU(),\n",
    "            nn.Dropout(dropout_rate),\n",
    "            \n",
    "            nn.Linear(hidden_size2, num_classes)\n",
    "        )\n",
    "    \n",
    "    def forward(self, x): # Прямой проход\n",
    "        return self.net(x)"
   ]
  },
  {
   "cell_type": "markdown",
   "id": "613b1a5f",
   "metadata": {},
   "source": [
    "7. Функция для одного шага обучения"
   ]
  },
  {
   "cell_type": "code",
   "execution_count": 77,
   "id": "8d43b47c",
   "metadata": {},
   "outputs": [],
   "source": [
    "def train_step(model, dataloader, optimizer, criterion, device, epoch): # Функция для одного шага обучения\n",
    "    model.train() # Режим тренировки\n",
    "    running_loss = 0.0 # Суммарный лосс\n",
    "    running_corrects = 0 # Суммарные правильные предсказания\n",
    "    \n",
    "    for inputs, labels in tqdm(dataloader, desc=f'Train Epoch {epoch}'): # Итерация по батчам\n",
    "        inputs = inputs.to(device) # Перемещение на устройство\n",
    "        labels = labels.to(device) \n",
    "        \n",
    "        optimizer.zero_grad() # Обнуление градиентов\n",
    "        outputs = model(inputs) # Прямой проход\n",
    "        _, preds = torch.max(outputs, 1) # Предсказания\n",
    "        loss = criterion(outputs, labels) # Вычисление лосса\n",
    "        \n",
    "        loss.backward() # Обратный проход\n",
    "        optimizer.step() # Обновление весов\n",
    "        \n",
    "        running_loss += loss.item() * inputs.size(0) # Накопление лосса\n",
    "        running_corrects += (preds == labels).sum().item() # Накопление правильных предсказаний\n",
    "    \n",
    "    epoch_loss = running_loss / len(dataloader.dataset) # Средний лосс за эпоху\n",
    "    epoch_acc = running_corrects / len(dataloader.dataset) # Точность за эпоху\n",
    "    \n",
    "    return epoch_loss, epoch_acc"
   ]
  },
  {
   "cell_type": "markdown",
   "id": "a34dfb5a",
   "metadata": {},
   "source": [
    "8. Функция для шага валидации"
   ]
  },
  {
   "cell_type": "code",
   "execution_count": 78,
   "id": "d6d7b632",
   "metadata": {},
   "outputs": [],
   "source": [
    "def val_step(model, dataloader, criterion, device, epoch):\n",
    "    model.eval()\n",
    "    running_loss = 0.0\n",
    "    running_corrects = 0\n",
    "    \n",
    "    with torch.no_grad():\n",
    "        for inputs, labels in tqdm(dataloader, desc=f'Val Epoch {epoch}'):\n",
    "            inputs = inputs.to(device)\n",
    "            labels = labels.to(device)\n",
    "            \n",
    "            outputs = model(inputs)\n",
    "            _, preds = torch.max(outputs, 1)\n",
    "            loss = criterion(outputs, labels)\n",
    "            \n",
    "            running_loss += loss.item() * inputs.size(0)\n",
    "            running_corrects += (preds == labels).sum().item()\n",
    "    \n",
    "    epoch_loss = running_loss / len(dataloader.dataset)\n",
    "    epoch_acc = running_corrects / len(dataloader.dataset)\n",
    "    \n",
    "    return epoch_loss, epoch_acc\n"
   ]
  },
  {
   "cell_type": "markdown",
   "id": "4c7d3670",
   "metadata": {},
   "source": [
    "9. Реализация Early Stopping"
   ]
  },
  {
   "cell_type": "code",
   "execution_count": 79,
   "id": "eccb9d92",
   "metadata": {},
   "outputs": [],
   "source": [
    "class EarlyStopping: \n",
    "    def __init__(self, patience=5, min_delta=0, restore_best_weights=True): # Инициализация\n",
    "        self.patience = patience # Количество эпох без улучшения\n",
    "        self.min_delta = min_delta # Минимальное улучшение для учета\n",
    "        self.restore_best_weights = restore_best_weights # Флаг восстановления лучших весов\n",
    "        self.best_loss = None # Лучший лосс\n",
    "        self.counter = 0 # Счетчик эпох без улучшения\n",
    "        self.best_model_weights = None # Лучшие веса модели\n",
    "        \n",
    "    def __call__(self, val_loss, model): # Проверка на остановку\n",
    "        if self.best_loss is None: # Инициализация лучшего лосса\n",
    "            self.best_loss = val_loss # Установка лучшего лосса\n",
    "            self.save_model_weights(model) # Сохранение весов модели\n",
    "        elif val_loss > self.best_loss - self.min_delta: # Проверка на улучшение\n",
    "            self.counter += 1 # Увеличение счетчика\n",
    "            if self.counter >= self.patience: # Проверка на превышение терпения\n",
    "                if self.restore_best_weights: # Восстановление лучших весов\n",
    "                    model.load_state_dict(self.best_model_weights) # Восстановление весов\n",
    "                return True\n",
    "        else:\n",
    "            self.best_loss = val_loss # Обновление лучшего лосса\n",
    "            self.counter = 0 # Сброс счетчика \n",
    "            self.save_model_weights(model) # Сохранение весов модели\n",
    "        return False \n",
    "    \n",
    "    def save_model_weights(self, model): # Сохранение весов модели\n",
    "        self.best_model_weights = model.state_dict().copy() # Копирование весов модели"
   ]
  },
  {
   "cell_type": "markdown",
   "id": "84bbd0f0",
   "metadata": {},
   "source": [
    "10. Основной цикл обучения"
   ]
  },
  {
   "cell_type": "code",
   "execution_count": null,
   "id": "6ef7935a",
   "metadata": {},
   "outputs": [],
   "source": [
    "def train_loop(model, start_epoch, end_epoch, optimizer, device, criterion,\n",
    "               train_summary_writer, val_summary_writer, train_dataloader,\n",
    "               val_dataloader, model_save_dir, best_acc=0.0, scheduler=None,\n",
    "               early_stopping=None): # Основной цикл обучения\n",
    "    current_best_acc = best_acc # Текущая лучшая точность\n",
    "    \n",
    "    for epoch in range(start_epoch, end_epoch):\n",
    "        start_time = time.time() # Время начала эпохи\n",
    "        \n",
    "        # 1. ОБУЧЕНИЕ\n",
    "        train_loss, train_accuracy = train_step(model, train_dataloader, optimizer, criterion, device, epoch) # Шаг обучения\n",
    "        train_summary_writer.add_scalar('Loss/train', train_loss, epoch) # Логгирование лосса \n",
    "        train_summary_writer.add_scalar('Accuracy/train', train_accuracy, epoch) # Логгирование точности \n",
    "        \n",
    "        # 2. ВАЛИДАЦИЯ\n",
    "        val_loss, val_accuracy = val_step(model, val_dataloader, criterion, device, epoch) # Шаг валидации\n",
    "        val_summary_writer.add_scalar('Loss/val', val_loss, epoch) # Логгирование лосса валидации\n",
    "        val_summary_writer.add_scalar('Accuracy/val', val_accuracy, epoch) # Логгирование точности валидации \n",
    "        \n",
    "        # 3. Шаг планировщика обучения (если передан)\n",
    "        if scheduler:\n",
    "            if isinstance(scheduler, torch.optim.lr_scheduler.ReduceLROnPlateau): # Проверка типа планировщика\n",
    "                scheduler.step(val_loss) # Шаг для ReduceLROnPlateau\n",
    "            else:\n",
    "                scheduler.step() # Шаг для остальных планировщиков\n",
    "        \n",
    "        # 4. СОХРАНЕНИЕ ЛУЧШЕЙ МОДЕЛИ\n",
    "        if val_accuracy > current_best_acc: # Проверка на лучшую точность\n",
    "            current_best_acc = val_accuracy # Обновление лучшей точности\n",
    "            torch.save({\n",
    "                'epoch': epoch, # Текущая эпоха\n",
    "                'model_state_dict': model.state_dict(), # Состояние модели\n",
    "                'optimizer_state_dict': optimizer.state_dict(), # Состояние оптимизатора\n",
    "                'accuracy': val_accuracy, # Точность на валидации\n",
    "                'loss': val_loss, # Лосс на валидации\n",
    "            }, model_save_dir / 'best_model.pth') # Сохранение модели\n",
    "            print(f\"Epoch {epoch} | --------New best model saved with val_acc = {val_accuracy:.4f}\") # Вывод сообщения о сохранении лучшей модели\n",
    "        \n",
    "        # 5. Early Stopping проверка\n",
    "        if early_stopping: \n",
    "            if early_stopping(val_loss, model): # Вызов проверки\n",
    "                print(f\"Early stopping triggered at epoch {epoch}\") # Сообщение о срабатывании\n",
    "                break\n",
    "        \n",
    "        # 6. Сохранение последней модели\n",
    "        torch.save({\n",
    "            'epoch': epoch, # Текущая эпоха\n",
    "            'model_state_dict': model.state_dict(), # Состояние модели\n",
    "            'optimizer_state_dict': optimizer.state_dict(), # Состояние оптимизатора\n",
    "            'accuracy': val_accuracy, # Точность на валидации\n",
    "            'loss': val_loss, # Лосс на валидации\n",
    "        }, model_save_dir / 'latest_model.pth') # Сохранение последней модели\n",
    "        \n",
    "        # 7. Статистика по эпохе\n",
    "        epoch_time = time.time() - start_time # Время окончания эпохи\n",
    "        current_lr = optimizer.param_groups[0]['lr'] # Текущая скорость обучения\n",
    "        print(f\"Epoch {epoch}/{end_epoch} | Time: {epoch_time:.2f}s | LR: {current_lr:.6f}\") # Статистика по эпохе\n",
    "        print(f\"  Train Loss: {train_loss:.4f} | Train Acc: {train_accuracy:.4f}\") # Лосс и точность на обучении\n",
    "        print(f\"  Val Loss: {val_loss:.4f} | Val Acc: {val_accuracy:.4f}\") # Лосс и точность на валидации\n",
    "        print(\"-\" * 60) # Разделитель для читаемости"
   ]
  },
  {
   "cell_type": "markdown",
   "id": "4829311b",
   "metadata": {},
   "source": [
    "11. Функция тестирования модели"
   ]
  },
  {
   "cell_type": "code",
   "execution_count": null,
   "id": "b292c4f8",
   "metadata": {},
   "outputs": [],
   "source": [
    "def test_model(model, test_loader, device, classes): # Функция для тестирования модели и построения матрицы ошибок\n",
    "    model.eval() # Режим оценки\n",
    "    all_preds = [] # Список для всех предсказаний\n",
    "    all_labels = [] # Список для всех истинных меток\n",
    "    test_correct = 0 # Счетчик правильных предсказаний\n",
    "    test_total = 0 # Общее количество предсказаний\n",
    "    \n",
    "    with torch.no_grad(): # Отключение градиентов\n",
    "        for inputs, labels in tqdm(test_loader, desc='Testing'): # Итерация по тестовому набору\n",
    "            inputs = inputs.to(device) # Перемещение на устройство\n",
    "            labels = labels.to(device) \n",
    "            \n",
    "            outputs = model(inputs) # Прямой проход\n",
    "            _, preds = torch.max(outputs, 1) # Предсказания\n",
    "            \n",
    "            all_preds.extend(preds.cpu().numpy()) # Сохранение предсказаний\n",
    "            all_labels.extend(labels.cpu().numpy()) # Сохранение истинных меток\n",
    "            \n",
    "            test_correct += (preds == labels).sum().item() # Подсчет правильных предсказаний\n",
    "            test_total += labels.size(0) # Подсчет общего количества предсказаний \n",
    "    \n",
    "    test_accuracy = test_correct / test_total # Вычисление точности\n",
    "    \n",
    "    # Построение матрицы ошибок\n",
    "    cm = confusion_matrix(all_labels, all_preds) # Вычисление матрицы ошибок\n",
    "    plt.figure(figsize=(10, 8))\n",
    "    sns.heatmap(cm, annot=True, fmt='d', cmap='Blues', \n",
    "                xticklabels=classes, yticklabels=classes)\n",
    "    plt.title('Confusion Matrix')\n",
    "    plt.xlabel('Predicted')\n",
    "    plt.ylabel('Actual')\n",
    "    plt.tight_layout()\n",
    "    plt.savefig('confusion_matrix.png')\n",
    "    plt.show()\n",
    "    return test_accuracy, all_preds, all_labels # Возврат точности, предсказаний и истинных меток"
   ]
  },
  {
   "cell_type": "markdown",
   "id": "d57273ca",
   "metadata": {},
   "source": [
    "12. Функция для визуализации прогнозов"
   ]
  },
  {
   "cell_type": "code",
   "execution_count": null,
   "id": "7ad546f7",
   "metadata": {},
   "outputs": [],
   "source": [
    "def visualize_predictions(model, test_loader, device, classes, num_images=10): # Функция для визуализации предсказаний модели\n",
    "    model.eval() # Режим оценки\n",
    "    images, labels = next(iter(test_loader)) # Получение одного батча\n",
    "    images, labels = images[:num_images].to(device), labels[:num_images].to(device) # Ограничение по количеству изображений \n",
    "    \n",
    "    with torch.no_grad(): # Отключение градиентов\n",
    "        outputs = model(images) # Прямой проход\n",
    "        _, preds = torch.max(outputs, 1) # Предсказания\n",
    "    \n",
    "    images = images.cpu() # Перемещение изображений на CPU для визуализации\n",
    "    fig, axes = plt.subplots(2, 5, figsize=(12, 6)) # Создание сетки для отображения изображений\n",
    "    axes = axes.ravel() # Выравнивание осей в одномерный массив\n",
    "    \n",
    "    for i in range(num_images): # Итерация по изображениям\n",
    "        axes[i].imshow(images[i].squeeze(), cmap='gray') # Отображение изображения\n",
    "        axes[i].set_title(f'True: {classes[labels[i]]}, Pred: {classes[preds[i]]}') # Заголовок с истинной и предсказанной меткой \n",
    "        axes[i].axis('off') # Отключение осей \n",
    "        if labels[i] != preds[i]: # Если предсказание неверно\n",
    "            axes[i].title.set_color('red') # Цвет заголовка красный для неверных предсказаний\n",
    "    \n",
    "    plt.tight_layout()\n",
    "    plt.show()"
   ]
  },
  {
   "cell_type": "markdown",
   "id": "c2a321ca",
   "metadata": {},
   "source": [
    "13. Grid Search для гиперпараметров"
   ]
  },
  {
   "cell_type": "code",
   "execution_count": null,
   "id": "cf63d3c5",
   "metadata": {},
   "outputs": [],
   "source": [
    "def grid_search(): # Функция для перебора гиперпараметров\n",
    "    learning_rates = [0.001, 0.01, 0.1] # Различные скорости обучения\n",
    "    batch_sizes = [32, 64, 128] # Различные размеры батчей\n",
    "    optimizers_list = ['Adam', 'SGD'] # Различные оптимизаторы\n",
    "    \n",
    "    best_accuracy = 0 # Лучшая точность\n",
    "    best_params = {} # Лучшие параметры\n",
    "    \n",
    "    for lr in learning_rates: # Перебор скоростей обучения\n",
    "        for batch_size in batch_sizes: # Перебор размеров батчей\n",
    "            for opt_name in optimizers_list: # Перебор оптимизаторов \n",
    "                print(f\"\\n=== Testing LR: {lr}, Batch Size: {batch_size}, Optimizer: {opt_name} ===\") # Вывод текущих параметров\n",
    "                \n",
    "                # Создание DataLoader'ов\n",
    "                train_loader = DataLoader(train_dataset, batch_size=batch_size, shuffle=True) # Тренировочный DataLoader\n",
    "                val_loader = DataLoader(val_dataset, batch_size=batch_size, shuffle=False) # Валидационный DataLoader\n",
    "                 \n",
    "                # Создание модели\n",
    "                model = NeuralNetwork().to(device) # Инициализация модели\n",
    "                \n",
    "                # Выбор оптимизатора\n",
    "                if opt_name == 'Adam':\n",
    "                    optimizer = optim.Adam(model.parameters(), lr=lr) # Adam оптимизатор\n",
    "                else:\n",
    "                    optimizer = optim.SGD(model.parameters(), lr=lr) # SGD оптимизатор\n",
    "                \n",
    "                criterion = nn.CrossEntropyLoss() # Кросс-энтропийный лосс\n",
    "                \n",
    "                # Быстрое обучение для оценки\n",
    "                current_best = 0 # Лучшая точность для текущих параметров\n",
    "                for epoch in range(3):  # Всего 3 эпохи для быстрой оценки\n",
    "                    train_loss, train_acc = train_step(model, train_loader, optimizer, criterion, device, epoch) # Шаг обучения\n",
    "                    val_loss, val_acc = val_step(model, val_loader, criterion, device, epoch) # Шаг валидации\n",
    "                    \n",
    "                    if val_acc > current_best: # Проверка на лучшую точность\n",
    "                        current_best = val_acc # Обновление лучшей точности\n",
    "                \n",
    "                print(f\"Best validation accuracy: {current_best:.4f}\") # Вывод лучшей точности\n",
    "                \n",
    "                if current_best > best_accuracy: # Проверка на глобальную лучшую точность\n",
    "                    best_accuracy = current_best # Обновление глобальной лучшей точности\n",
    "                    best_params = {\n",
    "                        'learning_rate': lr, # Лучшая скорость обучения\n",
    "                        'batch_size': batch_size, # Лучший размер батча\n",
    "                        'optimizer': opt_name # Лучший оптимизатор\n",
    "                    }\n",
    "    \n",
    "    print(f\"\\nBest parameters: {best_params}\")\n",
    "    print(f\"Best accuracy: {best_accuracy:.4f}\")\n",
    "    return best_params # Возврат лучших параметров"
   ]
  },
  {
   "cell_type": "markdown",
   "id": "9ca36a7e",
   "metadata": {},
   "source": [
    "14. Основной блок выполнения"
   ]
  },
  {
   "cell_type": "code",
   "execution_count": null,
   "id": "e08a7cfe",
   "metadata": {},
   "outputs": [],
   "source": [
    "def main(): # Основная функция для запуска всего процесса\n",
    "    # Создание директорий для сохранения\n",
    "    save_dir = Path('./checkpoints') # Директория для чекпоинтов\n",
    "    save_dir.mkdir(parents=True, exist_ok=True) # Создание директории, если не существует\n",
    "    \n",
    "    log_dir = Path('./runs/mnist_experiment') # Директория для логов TensorBoard\n",
    "    log_dir.mkdir(parents=True, exist_ok=True) # Создание директории, если не существует\n",
    "    \n",
    "    # Гиперпараметры\n",
    "    batch_size = 64 # Размер батча\n",
    "    learning_rate = 0.001 # Скорость обучения\n",
    "    num_epochs = 20 # Количество эпох \n",
    "    \n",
    "    # Создание DataLoader'ов\n",
    "    train_loader = DataLoader(train_dataset, batch_size=batch_size, shuffle=True, num_workers=2) # Тренировочный DataLoader\n",
    "    val_loader = DataLoader(val_dataset, batch_size=batch_size, shuffle=False, num_workers=2) # Валидационный DataLoader\n",
    "    test_loader = DataLoader(testset, batch_size=batch_size, shuffle=False, num_workers=2) # Тестовый DataLoader\n",
    "    \n",
    "    # Визуализация примеров данных\n",
    "    print(\"Визуализация примеров изображений из датасета:\")\n",
    "    data_iter = iter(train_loader) # Итератор по тренировочному DataLoader\n",
    "    images, labels = next(data_iter) # Получение одного батча\n",
    "    \n",
    "    plt.figure(figsize=(12, 6)) \n",
    "    for i in range(10): # Отображение первых 10 изображений\n",
    "        plt.subplot(2, 5, i+1)\n",
    "        imshow(images[i])\n",
    "        plt.title(f'Class: {classes[labels[i]]}')\n",
    "        plt.axis('off')\n",
    "    plt.suptitle(\"Примеры изображений из MNIST\")\n",
    "    plt.tight_layout()\n",
    "    plt.show()\n",
    "    \n",
    "    # Создание модели\n",
    "    model = NeuralNetwork().to(device) # Инициализация модели\n",
    "    print(f\"Модель создана. Параметров: {sum(p.numel() for p in model.parameters()):,}\") # Вывод количества параметров\n",
    "    \n",
    "    # Оптимизатор и функция потерь\n",
    "    optimizer = optim.Adam(model.parameters(), lr=learning_rate) # Adam оптимизатор\n",
    "    criterion = nn.CrossEntropyLoss() # Кросс-энтропийный лосс \n",
    "    \n",
    "    # Планировщик обучения\n",
    "    scheduler = optim.lr_scheduler.ReduceLROnPlateau(optimizer, mode='min', factor=0.5, patience=3) # Планировщик снижения LR при плато\n",
    "    \n",
    "    # Early Stopping\n",
    "    early_stopping = EarlyStopping(patience=5, min_delta=0.001) # Инициализация Early Stopping\n",
    "    \n",
    "    # TensorBoard writers\n",
    "    train_writer = SummaryWriter(log_dir / 'train') # Логгирование для тренировочного набора\n",
    "    val_writer = SummaryWriter(log_dir / 'val') # Логгирование для валидационного набора\n",
    "    \n",
    "    print(\"Начало обучения...\")\n",
    "    \n",
    "    # Запуск обучения\n",
    "    train_loop( \n",
    "        model=model, # Модель для обучения\n",
    "        start_epoch=0, # Начальная эпоха \n",
    "        end_epoch=num_epochs, # Конечная эпоха\n",
    "        optimizer=optimizer, # Оптимизатор\n",
    "        device=device, # Устройство\n",
    "        criterion=criterion, # Функция потерь\n",
    "        train_summary_writer=train_writer, # TensorBoard writer для тренировки\n",
    "        val_summary_writer=val_writer, # TensorBoard writer для валидации\n",
    "        train_dataloader=train_loader, # Тренировочный DataLoader\n",
    "        val_dataloader=val_loader, # Валидационный DataLoader\n",
    "        model_save_dir=save_dir, # Директория для сохранения модели \n",
    "        best_acc=0.0, # Лучшая точность\n",
    "        scheduler=scheduler, # Планировщик обучения\n",
    "        early_stopping=early_stopping # Early Stopping \n",
    "    )\n",
    "    \n",
    "    # Загрузка лучшей модели для тестирования\n",
    "    checkpoint = torch.load(save_dir / 'best_model.pth') # Загрузка чекпоинта\n",
    "    model.load_state_dict(checkpoint['model_state_dict']) # Загрузка состояния модели\n",
    "    print(f\"Загружена лучшая модель с эпохи {checkpoint['epoch']}, accuracy = {checkpoint['accuracy']:.4f}\")\n",
    "    \n",
    "    # Тестирование модели\n",
    "    print(\"\\nТестирование на тестовой выборке...\")\n",
    "    test_accuracy, all_preds, all_labels = test_model(model, test_loader, device, classes) # Тестирование модели\n",
    "    print(f\"Точность на тестовой выборке: {test_accuracy:.4f}\")\n",
    "    \n",
    "    # Визуализация прогнозов\n",
    "    visualize_predictions(model, test_loader, device, classes) # Визуализация предсказаний\n",
    "    \n",
    "    # Закрытие TensorBoard writers\n",
    "    train_writer.close()\n",
    "    val_writer.close()\n",
    "    \n",
    "    print(f\"\\n=== РЕЗУЛЬТАТЫ ===\")\n",
    "    print(f\"Лучшая точность на валидации: {checkpoint['accuracy']:.4f}\")\n",
    "    print(f\"Точность на тесте: {test_accuracy:.4f}\")\n",
    "    \n",
    "    # Grid Search (опционально)\n",
    "    print(\"\\n=== ЗАПУСК GRID SEARCH ===\")\n",
    "    best_params = grid_search()\n",
    "    \n",
    "    return model, test_accuracy, best_params"
   ]
  },
  {
   "cell_type": "markdown",
   "id": "a04712bd",
   "metadata": {},
   "source": [
    "\n",
    "15. Дополнительное задание: FashionMNIST"
   ]
  },
  {
   "cell_type": "code",
   "execution_count": null,
   "id": "59f253b9",
   "metadata": {},
   "outputs": [],
   "source": [
    "def fashion_mnist_experiment(): # Дополнительное задание с FashionMNIST\n",
    "    print(\"\\n\" + \"=\"*60)\n",
    "    print(\"ДОПОЛНИТЕЛЬНОЕ ЗАДАНИЕ: EXPERIMENT WITH FASHIONMNIST\")\n",
    "    print(\"=\"*60)\n",
    "    \n",
    "    # Преобразования для FashionMNIST\n",
    "    transform_fashion = transforms.Compose([ \n",
    "        transforms.ToTensor(),\n",
    "        transforms.Normalize((0.2860,), (0.3530,))  # Значения для FashionMNIST\n",
    "    ])\n",
    "    \n",
    "    # Загрузка FashionMNIST\n",
    "    fashion_trainset = torchvision.datasets.FashionMNIST( # Тренировочный набор\n",
    "        root='./data', \n",
    "        train=True,\n",
    "        download=True, \n",
    "        transform=transform_fashion\n",
    "    )\n",
    "    \n",
    "    fashion_testset = torchvision.datasets.FashionMNIST( # Тестовый набор\n",
    "        root='./data', \n",
    "        train=False,\n",
    "        download=True, \n",
    "        transform=transform_fashion\n",
    "    )\n",
    "    \n",
    "    fashion_train, fashion_val = random_split(fashion_trainset, [50000, 10000]) # Разделение на обучение и валидацию\n",
    "    fashion_classes = ['T-shirt/top', 'Trouser', 'Pullover', 'Dress', 'Coat', \n",
    "                      'Sandal', 'Shirt', 'Sneaker', 'Bag', 'Ankle boot'] # Классы FashionMNIST\n",
    "    \n",
    "    # DataLoader'ы\n",
    "    fashion_train_loader = DataLoader(fashion_train, batch_size=64, shuffle=True) # Тренировочный DataLoader\n",
    "    fashion_val_loader = DataLoader(fashion_val, batch_size=64, shuffle=False) # Валидационный DataLoader\n",
    "    fashion_test_loader = DataLoader(fashion_testset, batch_size=64, shuffle=False) # Тестовый DataLoader \n",
    "    \n",
    "    # Модель\n",
    "    fashion_model = NeuralNetwork().to(device) # Инициализация модели \n",
    "    fashion_optimizer = optim.Adam(fashion_model.parameters(), lr=0.001)    # Adam оптимизатор\n",
    "    fashion_criterion = nn.CrossEntropyLoss()   # Кросс-энтропийный лосс\n",
    "    \n",
    "    print(\"Обучение на FashionMNIST...\")\n",
    "    \n",
    "    # Быстрое обучение (5 эпох)\n",
    "    for epoch in range(5):\n",
    "        train_loss, train_acc = train_step(fashion_model, fashion_train_loader, \n",
    "                                         fashion_optimizer, fashion_criterion, device, epoch) # Шаг обучения\n",
    "        val_loss, val_acc = val_step(fashion_model, fashion_val_loader, \n",
    "                                   fashion_criterion, device, epoch) # Шаг валидации\n",
    "        print(f\"Epoch {epoch}: Train Acc: {train_acc:.4f}, Val Acc: {val_acc:.4f}\")\n",
    "    \n",
    "    # Тестирование\n",
    "    fashion_accuracy, _, _ = test_model(fashion_model, fashion_test_loader, device, fashion_classes)\n",
    "    print(f\"Точность на FashionMNIST: {fashion_accuracy:.4f}\")\n",
    "    \n",
    "    return fashion_accuracy"
   ]
  },
  {
   "cell_type": "markdown",
   "id": "1301ff6c",
   "metadata": {},
   "source": [
    "16. Запуск основной программы"
   ]
  },
  {
   "cell_type": "code",
   "execution_count": null,
   "id": "beaf1d60",
   "metadata": {},
   "outputs": [
    {
     "name": "stdout",
     "output_type": "stream",
     "text": [
      "Визуализация примеров изображений из датасета:\n"
     ]
    },
    {
     "data": {
      "image/png": "[encoded data removed]",
      "text/plain": [
       "<Figure size 1200x600 with 10 Axes>"
      ]
     },
     "metadata": {},
     "output_type": "display_data"
    },
    {
     "name": "stdout",
     "output_type": "stream",
     "text": [
      "Модель создана. Параметров: 235,914\n",
      "Начало обучения...\n"
     ]
    },
    {
     "name": "stderr",
     "output_type": "stream",
     "text": [
      "Train Epoch 0: 100%|██████████| 782/782 [00:14<00:00, 53.58it/s] \n",
      "Val Epoch 0: 100%|██████████| 157/157 [00:05<00:00, 27.56it/s] \n"
     ]
    },
    {
     "name": "stdout",
     "output_type": "stream",
     "text": [
      "Epoch 0 | ✅ New best model saved with val_acc = 0.9678\n",
      "Epoch 0/20 | Time: 20.31s | LR: 0.001000\n",
      "  Train Loss: 0.2826 | Train Acc: 0.9216\n",
      "  Val Loss: 0.1115 | Val Acc: 0.9678\n",
      "------------------------------------------------------------\n"
     ]
    },
    {
     "name": "stderr",
     "output_type": "stream",
     "text": [
      "Train Epoch 1: 100%|██████████| 782/782 [00:14<00:00, 55.20it/s] \n",
      "Val Epoch 1: 100%|██████████| 157/157 [00:05<00:00, 27.98it/s] \n"
     ]
    },
    {
     "name": "stdout",
     "output_type": "stream",
     "text": [
      "Epoch 1 | ✅ New best model saved with val_acc = 0.9743\n",
      "Epoch 1/20 | Time: 19.80s | LR: 0.001000\n",
      "  Train Loss: 0.1340 | Train Acc: 0.9592\n",
      "  Val Loss: 0.0885 | Val Acc: 0.9743\n",
      "------------------------------------------------------------\n"
     ]
    },
    {
     "name": "stderr",
     "output_type": "stream",
     "text": [
      "Train Epoch 2: 100%|██████████| 782/782 [00:14<00:00, 54.38it/s] \n",
      "Val Epoch 2: 100%|██████████| 157/157 [00:05<00:00, 28.21it/s] \n"
     ]
    },
    {
     "name": "stdout",
     "output_type": "stream",
     "text": [
      "Epoch 2 | ✅ New best model saved with val_acc = 0.9769\n",
      "Epoch 2/20 | Time: 19.96s | LR: 0.001000\n",
      "  Train Loss: 0.1036 | Train Acc: 0.9680\n",
      "  Val Loss: 0.0808 | Val Acc: 0.9769\n",
      "------------------------------------------------------------\n"
     ]
    },
    {
     "name": "stderr",
     "output_type": "stream",
     "text": [
      "Train Epoch 3: 100%|██████████| 782/782 [00:14<00:00, 55.50it/s] \n",
      "Val Epoch 3: 100%|██████████| 157/157 [00:05<00:00, 27.37it/s] \n"
     ]
    },
    {
     "name": "stdout",
     "output_type": "stream",
     "text": [
      "Epoch 3 | ✅ New best model saved with val_acc = 0.9770\n",
      "Epoch 3/20 | Time: 19.85s | LR: 0.001000\n",
      "  Train Loss: 0.0873 | Train Acc: 0.9720\n",
      "  Val Loss: 0.0764 | Val Acc: 0.9770\n",
      "------------------------------------------------------------\n"
     ]
    },
    {
     "name": "stderr",
     "output_type": "stream",
     "text": [
      "Train Epoch 4: 100%|██████████| 782/782 [00:14<00:00, 54.99it/s] \n",
      "Val Epoch 4: 100%|██████████| 157/157 [00:05<00:00, 28.38it/s] \n"
     ]
    },
    {
     "name": "stdout",
     "output_type": "stream",
     "text": [
      "Epoch 4 | ✅ New best model saved with val_acc = 0.9789\n",
      "Epoch 4/20 | Time: 19.77s | LR: 0.001000\n",
      "  Train Loss: 0.0759 | Train Acc: 0.9757\n",
      "  Val Loss: 0.0717 | Val Acc: 0.9789\n",
      "------------------------------------------------------------\n"
     ]
    },
    {
     "name": "stderr",
     "output_type": "stream",
     "text": [
      "Train Epoch 5: 100%|██████████| 782/782 [00:14<00:00, 54.39it/s] \n",
      "Val Epoch 5: 100%|██████████| 157/157 [00:05<00:00, 28.58it/s] \n"
     ]
    },
    {
     "name": "stdout",
     "output_type": "stream",
     "text": [
      "Epoch 5/20 | Time: 19.88s | LR: 0.001000\n",
      "  Train Loss: 0.0680 | Train Acc: 0.9779\n",
      "  Val Loss: 0.0750 | Val Acc: 0.9784\n",
      "------------------------------------------------------------\n"
     ]
    },
    {
     "name": "stderr",
     "output_type": "stream",
     "text": [
      "Train Epoch 6: 100%|██████████| 782/782 [00:13<00:00, 55.95it/s] \n",
      "Val Epoch 6: 100%|██████████| 157/157 [00:05<00:00, 28.59it/s] \n"
     ]
    },
    {
     "name": "stdout",
     "output_type": "stream",
     "text": [
      "Epoch 6 | ✅ New best model saved with val_acc = 0.9794\n",
      "Epoch 6/20 | Time: 19.48s | LR: 0.001000\n",
      "  Train Loss: 0.0601 | Train Acc: 0.9805\n",
      "  Val Loss: 0.0710 | Val Acc: 0.9794\n",
      "------------------------------------------------------------\n"
     ]
    },
    {
     "name": "stderr",
     "output_type": "stream",
     "text": [
      "Train Epoch 7: 100%|██████████| 782/782 [00:14<00:00, 55.81it/s] \n",
      "Val Epoch 7: 100%|██████████| 157/157 [00:05<00:00, 28.04it/s] \n"
     ]
    },
    {
     "name": "stdout",
     "output_type": "stream",
     "text": [
      "Epoch 7 | ✅ New best model saved with val_acc = 0.9812\n",
      "Epoch 7/20 | Time: 19.63s | LR: 0.001000\n",
      "  Train Loss: 0.0541 | Train Acc: 0.9816\n",
      "  Val Loss: 0.0698 | Val Acc: 0.9812\n",
      "------------------------------------------------------------\n"
     ]
    },
    {
     "name": "stderr",
     "output_type": "stream",
     "text": [
      "Train Epoch 8: 100%|██████████| 782/782 [00:14<00:00, 55.59it/s] \n",
      "Val Epoch 8: 100%|██████████| 157/157 [00:05<00:00, 28.43it/s] \n"
     ]
    },
    {
     "name": "stdout",
     "output_type": "stream",
     "text": [
      "Epoch 8/20 | Time: 19.60s | LR: 0.001000\n",
      "  Train Loss: 0.0483 | Train Acc: 0.9842\n",
      "  Val Loss: 0.0703 | Val Acc: 0.9803\n",
      "------------------------------------------------------------\n"
     ]
    },
    {
     "name": "stderr",
     "output_type": "stream",
     "text": [
      "Train Epoch 9: 100%|██████████| 782/782 [00:13<00:00, 56.51it/s] \n",
      "Val Epoch 9: 100%|██████████| 157/157 [00:05<00:00, 28.62it/s] \n"
     ]
    },
    {
     "name": "stdout",
     "output_type": "stream",
     "text": [
      "Epoch 9 | ✅ New best model saved with val_acc = 0.9814\n",
      "Epoch 9/20 | Time: 19.34s | LR: 0.001000\n",
      "  Train Loss: 0.0477 | Train Acc: 0.9843\n",
      "  Val Loss: 0.0685 | Val Acc: 0.9814\n",
      "------------------------------------------------------------\n"
     ]
    },
    {
     "name": "stderr",
     "output_type": "stream",
     "text": [
      "Train Epoch 10: 100%|██████████| 782/782 [00:14<00:00, 55.74it/s] \n",
      "Val Epoch 10: 100%|██████████| 157/157 [00:05<00:00, 28.59it/s] \n"
     ]
    },
    {
     "name": "stdout",
     "output_type": "stream",
     "text": [
      "Epoch 10 | ✅ New best model saved with val_acc = 0.9819\n",
      "Epoch 10/20 | Time: 19.54s | LR: 0.001000\n",
      "  Train Loss: 0.0423 | Train Acc: 0.9856\n",
      "  Val Loss: 0.0677 | Val Acc: 0.9819\n",
      "------------------------------------------------------------\n"
     ]
    },
    {
     "name": "stderr",
     "output_type": "stream",
     "text": [
      "Train Epoch 11: 100%|██████████| 782/782 [00:14<00:00, 54.37it/s] \n",
      "Val Epoch 11: 100%|██████████| 157/157 [00:05<00:00, 27.16it/s] \n"
     ]
    },
    {
     "name": "stdout",
     "output_type": "stream",
     "text": [
      "Epoch 11/20 | Time: 20.18s | LR: 0.001000\n",
      "  Train Loss: 0.0400 | Train Acc: 0.9864\n",
      "  Val Loss: 0.0697 | Val Acc: 0.9818\n",
      "------------------------------------------------------------\n"
     ]
    },
    {
     "name": "stderr",
     "output_type": "stream",
     "text": [
      "Train Epoch 12: 100%|██████████| 782/782 [00:14<00:00, 55.36it/s] \n",
      "Val Epoch 12: 100%|██████████| 157/157 [00:05<00:00, 28.72it/s] \n"
     ]
    },
    {
     "name": "stdout",
     "output_type": "stream",
     "text": [
      "Epoch 12 | ✅ New best model saved with val_acc = 0.9828\n",
      "Epoch 12/20 | Time: 19.61s | LR: 0.001000\n",
      "  Train Loss: 0.0377 | Train Acc: 0.9868\n",
      "  Val Loss: 0.0639 | Val Acc: 0.9828\n",
      "------------------------------------------------------------\n"
     ]
    },
    {
     "name": "stderr",
     "output_type": "stream",
     "text": [
      "Train Epoch 13: 100%|██████████| 782/782 [00:15<00:00, 51.04it/s] \n",
      "Val Epoch 13: 100%|██████████| 157/157 [00:06<00:00, 25.38it/s] \n"
     ]
    },
    {
     "name": "stdout",
     "output_type": "stream",
     "text": [
      "Epoch 13/20 | Time: 21.52s | LR: 0.001000\n",
      "  Train Loss: 0.0338 | Train Acc: 0.9888\n",
      "  Val Loss: 0.0719 | Val Acc: 0.9825\n",
      "------------------------------------------------------------\n"
     ]
    },
    {
     "name": "stderr",
     "output_type": "stream",
     "text": [
      "Train Epoch 14: 100%|██████████| 782/782 [00:15<00:00, 51.25it/s] \n",
      "Val Epoch 14: 100%|██████████| 157/157 [00:05<00:00, 27.31it/s] \n"
     ]
    },
    {
     "name": "stdout",
     "output_type": "stream",
     "text": [
      "Epoch 14 | ✅ New best model saved with val_acc = 0.9832\n",
      "Epoch 14/20 | Time: 21.02s | LR: 0.001000\n",
      "  Train Loss: 0.0327 | Train Acc: 0.9890\n",
      "  Val Loss: 0.0661 | Val Acc: 0.9832\n",
      "------------------------------------------------------------\n"
     ]
    },
    {
     "name": "stderr",
     "output_type": "stream",
     "text": [
      "Train Epoch 15: 100%|██████████| 782/782 [00:14<00:00, 54.13it/s] \n",
      "Val Epoch 15: 100%|██████████| 157/157 [00:05<00:00, 26.93it/s] \n"
     ]
    },
    {
     "name": "stdout",
     "output_type": "stream",
     "text": [
      "Epoch 15/20 | Time: 20.29s | LR: 0.001000\n",
      "  Train Loss: 0.0314 | Train Acc: 0.9894\n",
      "  Val Loss: 0.0689 | Val Acc: 0.9832\n",
      "------------------------------------------------------------\n"
     ]
    },
    {
     "name": "stderr",
     "output_type": "stream",
     "text": [
      "Train Epoch 16: 100%|██████████| 782/782 [00:14<00:00, 53.27it/s] \n",
      "Val Epoch 16: 100%|██████████| 157/157 [00:06<00:00, 26.03it/s] \n"
     ]
    },
    {
     "name": "stdout",
     "output_type": "stream",
     "text": [
      "Epoch 16 | ✅ New best model saved with val_acc = 0.9834\n",
      "Epoch 16/20 | Time: 20.73s | LR: 0.000500\n",
      "  Train Loss: 0.0295 | Train Acc: 0.9902\n",
      "  Val Loss: 0.0692 | Val Acc: 0.9834\n",
      "------------------------------------------------------------\n"
     ]
    },
    {
     "name": "stderr",
     "output_type": "stream",
     "text": [
      "Train Epoch 17: 100%|██████████| 782/782 [00:14<00:00, 53.45it/s] \n",
      "Val Epoch 17: 100%|██████████| 157/157 [00:05<00:00, 27.40it/s] \n"
     ]
    },
    {
     "name": "stdout",
     "output_type": "stream",
     "text": [
      "Epoch 17 | ✅ New best model saved with val_acc = 0.9840\n",
      "Early stopping triggered at epoch 17\n",
      "Загружена лучшая модель с эпохи 17, accuracy = 0.9840\n",
      "\n",
      "Тестирование на тестовой выборке...\n"
     ]
    },
    {
     "name": "stderr",
     "output_type": "stream",
     "text": [
      "Testing: 100%|██████████| 157/157 [00:05<00:00, 27.74it/s] \n"
     ]
    },
    {
     "data": {
      "image/png": "[encoded data removed]",
      "text/plain": [
       "<Figure size 1000x800 with 2 Axes>"
      ]
     },
     "metadata": {},
     "output_type": "display_data"
    },
    {
     "name": "stdout",
     "output_type": "stream",
     "text": [
      "Точность на тестовой выборке: 0.9835\n"
     ]
    },
    {
     "data": {
      "image/png": "[encoded data removed]",
      "text/plain": [
       "<Figure size 1200x600 with 10 Axes>"
      ]
     },
     "metadata": {},
     "output_type": "display_data"
    },
    {
     "name": "stdout",
     "output_type": "stream",
     "text": [
      "\n",
      "=== РЕЗУЛЬТАТЫ ===\n",
      "Лучшая точность на валидации: 0.9840\n",
      "Точность на тесте: 0.9835\n",
      "\n",
      "=== ЗАПУСК GRID SEARCH ===\n",
      "\n",
      "=== Testing LR: 0.001, Batch Size: 32, Optimizer: Adam ===\n"
     ]
    },
    {
     "name": "stderr",
     "output_type": "stream",
     "text": [
      "Train Epoch 0: 100%|██████████| 1563/1563 [00:17<00:00, 89.73it/s]\n",
      "Val Epoch 0: 100%|██████████| 313/313 [00:02<00:00, 119.12it/s]\n",
      "Train Epoch 1: 100%|██████████| 1563/1563 [00:16<00:00, 91.98it/s] \n",
      "Val Epoch 1: 100%|██████████| 313/313 [00:02<00:00, 129.63it/s]\n",
      "Train Epoch 2: 100%|██████████| 1563/1563 [00:17<00:00, 90.28it/s]\n",
      "Val Epoch 2: 100%|██████████| 313/313 [00:02<00:00, 125.07it/s]\n"
     ]
    },
    {
     "name": "stdout",
     "output_type": "stream",
     "text": [
      "Best validation accuracy: 0.9772\n",
      "\n",
      "=== Testing LR: 0.001, Batch Size: 32, Optimizer: SGD ===\n"
     ]
    },
    {
     "name": "stderr",
     "output_type": "stream",
     "text": [
      "Train Epoch 0: 100%|██████████| 1563/1563 [00:15<00:00, 99.61it/s] \n",
      "Val Epoch 0: 100%|██████████| 313/313 [00:02<00:00, 120.91it/s]\n",
      "Train Epoch 1: 100%|██████████| 1563/1563 [00:15<00:00, 99.37it/s] \n",
      "Val Epoch 1: 100%|██████████| 313/313 [00:02<00:00, 119.55it/s]\n",
      "Train Epoch 2: 100%|██████████| 1563/1563 [00:15<00:00, 100.67it/s]\n",
      "Val Epoch 2: 100%|██████████| 313/313 [00:02<00:00, 118.53it/s]\n"
     ]
    },
    {
     "name": "stdout",
     "output_type": "stream",
     "text": [
      "Best validation accuracy: 0.9139\n",
      "\n",
      "=== Testing LR: 0.001, Batch Size: 64, Optimizer: Adam ===\n"
     ]
    },
    {
     "name": "stderr",
     "output_type": "stream",
     "text": [
      "Train Epoch 0: 100%|██████████| 782/782 [00:14<00:00, 54.06it/s]\n",
      "Val Epoch 0: 100%|██████████| 157/157 [00:02<00:00, 61.05it/s]\n",
      "Train Epoch 1: 100%|██████████| 782/782 [00:14<00:00, 52.16it/s]\n",
      "Val Epoch 1: 100%|██████████| 157/157 [00:02<00:00, 65.16it/s]\n",
      "Train Epoch 2: 100%|██████████| 782/782 [00:14<00:00, 53.48it/s]\n",
      "Val Epoch 2: 100%|██████████| 157/157 [00:02<00:00, 64.10it/s]\n"
     ]
    },
    {
     "name": "stdout",
     "output_type": "stream",
     "text": [
      "Best validation accuracy: 0.9762\n",
      "\n",
      "=== Testing LR: 0.001, Batch Size: 64, Optimizer: SGD ===\n"
     ]
    },
    {
     "name": "stderr",
     "output_type": "stream",
     "text": [
      "Train Epoch 0: 100%|██████████| 782/782 [00:13<00:00, 55.98it/s]\n",
      "Val Epoch 0: 100%|██████████| 157/157 [00:02<00:00, 66.82it/s]\n",
      "Train Epoch 1: 100%|██████████| 782/782 [00:13<00:00, 56.78it/s]\n",
      "Val Epoch 1: 100%|██████████| 157/157 [00:02<00:00, 62.99it/s]\n",
      "Train Epoch 2: 100%|██████████| 782/782 [00:14<00:00, 55.81it/s]\n",
      "Val Epoch 2: 100%|██████████| 157/157 [00:02<00:00, 64.84it/s]\n"
     ]
    },
    {
     "name": "stdout",
     "output_type": "stream",
     "text": [
      "Best validation accuracy: 0.8858\n",
      "\n",
      "=== Testing LR: 0.001, Batch Size: 128, Optimizer: Adam ===\n"
     ]
    },
    {
     "name": "stderr",
     "output_type": "stream",
     "text": [
      "Train Epoch 0: 100%|██████████| 391/391 [00:13<00:00, 29.83it/s]\n",
      "Val Epoch 0: 100%|██████████| 79/79 [00:02<00:00, 31.85it/s]\n",
      "Train Epoch 1: 100%|██████████| 391/391 [00:13<00:00, 28.15it/s]\n",
      "Val Epoch 1: 100%|██████████| 79/79 [00:02<00:00, 34.04it/s]\n",
      "Train Epoch 2: 100%|██████████| 391/391 [00:13<00:00, 28.79it/s]\n",
      "Val Epoch 2: 100%|██████████| 79/79 [00:02<00:00, 32.10it/s]\n"
     ]
    },
    {
     "name": "stdout",
     "output_type": "stream",
     "text": [
      "Best validation accuracy: 0.9758\n",
      "\n",
      "=== Testing LR: 0.001, Batch Size: 128, Optimizer: SGD ===\n"
     ]
    },
    {
     "name": "stderr",
     "output_type": "stream",
     "text": [
      "Train Epoch 0: 100%|██████████| 391/391 [00:12<00:00, 30.12it/s]\n",
      "Val Epoch 0: 100%|██████████| 79/79 [00:02<00:00, 34.66it/s]\n",
      "Train Epoch 1: 100%|██████████| 391/391 [00:13<00:00, 29.33it/s]\n",
      "Val Epoch 1: 100%|██████████| 79/79 [00:02<00:00, 32.61it/s]\n",
      "Train Epoch 2: 100%|██████████| 391/391 [00:12<00:00, 31.12it/s]\n",
      "Val Epoch 2: 100%|██████████| 79/79 [00:02<00:00, 35.64it/s]\n"
     ]
    },
    {
     "name": "stdout",
     "output_type": "stream",
     "text": [
      "Best validation accuracy: 0.8477\n",
      "\n",
      "=== Testing LR: 0.01, Batch Size: 32, Optimizer: Adam ===\n"
     ]
    },
    {
     "name": "stderr",
     "output_type": "stream",
     "text": [
      "Train Epoch 0: 100%|██████████| 1563/1563 [00:17<00:00, 91.93it/s]\n",
      "Val Epoch 0: 100%|██████████| 313/313 [00:02<00:00, 128.34it/s]\n",
      "Train Epoch 1: 100%|██████████| 1563/1563 [00:16<00:00, 93.58it/s]\n",
      "Val Epoch 1: 100%|██████████| 313/313 [00:02<00:00, 131.81it/s]\n",
      "Train Epoch 2: 100%|██████████| 1563/1563 [00:17<00:00, 87.69it/s]\n",
      "Val Epoch 2: 100%|██████████| 313/313 [00:02<00:00, 124.26it/s]\n"
     ]
    },
    {
     "name": "stdout",
     "output_type": "stream",
     "text": [
      "Best validation accuracy: 0.9728\n",
      "\n",
      "=== Testing LR: 0.01, Batch Size: 32, Optimizer: SGD ===\n"
     ]
    },
    {
     "name": "stderr",
     "output_type": "stream",
     "text": [
      "Train Epoch 0: 100%|██████████| 1563/1563 [00:14<00:00, 106.21it/s]\n",
      "Val Epoch 0: 100%|██████████| 313/313 [00:02<00:00, 120.95it/s]\n",
      "Train Epoch 1: 100%|██████████| 1563/1563 [00:13<00:00, 111.69it/s]\n",
      "Val Epoch 1: 100%|██████████| 313/313 [00:02<00:00, 130.98it/s]\n",
      "Train Epoch 2: 100%|██████████| 1563/1563 [00:14<00:00, 108.94it/s]\n",
      "Val Epoch 2: 100%|██████████| 313/313 [00:02<00:00, 133.09it/s]\n"
     ]
    },
    {
     "name": "stdout",
     "output_type": "stream",
     "text": [
      "Best validation accuracy: 0.9683\n",
      "\n",
      "=== Testing LR: 0.01, Batch Size: 64, Optimizer: Adam ===\n"
     ]
    },
    {
     "name": "stderr",
     "output_type": "stream",
     "text": [
      "Train Epoch 0: 100%|██████████| 782/782 [00:14<00:00, 54.82it/s]\n",
      "Val Epoch 0: 100%|██████████| 157/157 [00:02<00:00, 69.49it/s]\n",
      "Train Epoch 1: 100%|██████████| 782/782 [00:14<00:00, 55.72it/s]\n",
      "Val Epoch 1: 100%|██████████| 157/157 [00:02<00:00, 68.80it/s]\n",
      "Train Epoch 2: 100%|██████████| 782/782 [00:13<00:00, 56.85it/s]\n",
      "Val Epoch 2: 100%|██████████| 157/157 [00:02<00:00, 67.21it/s]\n"
     ]
    },
    {
     "name": "stdout",
     "output_type": "stream",
     "text": [
      "Best validation accuracy: 0.9746\n",
      "\n",
      "=== Testing LR: 0.01, Batch Size: 64, Optimizer: SGD ===\n"
     ]
    },
    {
     "name": "stderr",
     "output_type": "stream",
     "text": [
      "Train Epoch 0: 100%|██████████| 782/782 [00:14<00:00, 55.51it/s]\n",
      "Val Epoch 0: 100%|██████████| 157/157 [00:02<00:00, 66.25it/s]\n",
      "Train Epoch 1: 100%|██████████| 782/782 [00:13<00:00, 58.87it/s]\n",
      "Val Epoch 1: 100%|██████████| 157/157 [00:02<00:00, 65.38it/s]\n",
      "Train Epoch 2: 100%|██████████| 782/782 [00:13<00:00, 58.24it/s]\n",
      "Val Epoch 2: 100%|██████████| 157/157 [00:02<00:00, 65.78it/s]\n"
     ]
    },
    {
     "name": "stdout",
     "output_type": "stream",
     "text": [
      "Best validation accuracy: 0.9582\n",
      "\n",
      "=== Testing LR: 0.01, Batch Size: 128, Optimizer: Adam ===\n"
     ]
    },
    {
     "name": "stderr",
     "output_type": "stream",
     "text": [
      "Train Epoch 0: 100%|██████████| 391/391 [00:12<00:00, 30.38it/s]\n",
      "Val Epoch 0: 100%|██████████| 79/79 [00:02<00:00, 33.72it/s]\n",
      "Train Epoch 1: 100%|██████████| 391/391 [00:12<00:00, 30.76it/s]\n",
      "Val Epoch 1: 100%|██████████| 79/79 [00:02<00:00, 35.35it/s]\n",
      "Train Epoch 2: 100%|██████████| 391/391 [00:12<00:00, 31.29it/s]\n",
      "Val Epoch 2: 100%|██████████| 79/79 [00:02<00:00, 34.78it/s]\n"
     ]
    },
    {
     "name": "stdout",
     "output_type": "stream",
     "text": [
      "Best validation accuracy: 0.9731\n",
      "\n",
      "=== Testing LR: 0.01, Batch Size: 128, Optimizer: SGD ===\n"
     ]
    },
    {
     "name": "stderr",
     "output_type": "stream",
     "text": [
      "Train Epoch 0: 100%|██████████| 391/391 [00:12<00:00, 32.24it/s]\n",
      "Val Epoch 0: 100%|██████████| 79/79 [00:02<00:00, 35.07it/s]\n",
      "Train Epoch 1: 100%|██████████| 391/391 [00:12<00:00, 31.49it/s]\n",
      "Val Epoch 1: 100%|██████████| 79/79 [00:02<00:00, 34.85it/s]\n",
      "Train Epoch 2: 100%|██████████| 391/391 [00:12<00:00, 32.24it/s]\n",
      "Val Epoch 2: 100%|██████████| 79/79 [00:02<00:00, 36.13it/s]\n"
     ]
    },
    {
     "name": "stdout",
     "output_type": "stream",
     "text": [
      "Best validation accuracy: 0.9398\n",
      "\n",
      "=== Testing LR: 0.1, Batch Size: 32, Optimizer: Adam ===\n"
     ]
    },
    {
     "name": "stderr",
     "output_type": "stream",
     "text": [
      "Train Epoch 0: 100%|██████████| 1563/1563 [00:16<00:00, 94.79it/s]\n",
      "Val Epoch 0: 100%|██████████| 313/313 [00:02<00:00, 124.14it/s]\n",
      "Train Epoch 1: 100%|██████████| 1563/1563 [00:16<00:00, 93.48it/s]\n",
      "Val Epoch 1: 100%|██████████| 313/313 [00:02<00:00, 130.75it/s]\n",
      "Train Epoch 2: 100%|██████████| 1563/1563 [00:17<00:00, 89.49it/s]\n",
      "Val Epoch 2: 100%|██████████| 313/313 [00:02<00:00, 115.19it/s]\n"
     ]
    },
    {
     "name": "stdout",
     "output_type": "stream",
     "text": [
      "Best validation accuracy: 0.9500\n",
      "\n",
      "=== Testing LR: 0.1, Batch Size: 32, Optimizer: SGD ===\n"
     ]
    },
    {
     "name": "stderr",
     "output_type": "stream",
     "text": [
      "Train Epoch 0: 100%|██████████| 1563/1563 [00:14<00:00, 105.80it/s]\n",
      "Val Epoch 0: 100%|██████████| 313/313 [00:02<00:00, 128.10it/s]\n",
      "Train Epoch 1: 100%|██████████| 1563/1563 [00:14<00:00, 109.51it/s]\n",
      "Val Epoch 1: 100%|██████████| 313/313 [00:02<00:00, 131.49it/s]\n",
      "Train Epoch 2: 100%|██████████| 1563/1563 [00:14<00:00, 108.92it/s]\n",
      "Val Epoch 2: 100%|██████████| 313/313 [00:02<00:00, 125.81it/s]\n"
     ]
    },
    {
     "name": "stdout",
     "output_type": "stream",
     "text": [
      "Best validation accuracy: 0.9750\n",
      "\n",
      "=== Testing LR: 0.1, Batch Size: 64, Optimizer: Adam ===\n"
     ]
    },
    {
     "name": "stderr",
     "output_type": "stream",
     "text": [
      "Train Epoch 0: 100%|██████████| 782/782 [00:13<00:00, 56.67it/s]\n",
      "Val Epoch 0: 100%|██████████| 157/157 [00:02<00:00, 69.97it/s]\n",
      "Train Epoch 1: 100%|██████████| 782/782 [00:14<00:00, 54.83it/s]\n",
      "Val Epoch 1: 100%|██████████| 157/157 [00:02<00:00, 61.62it/s]\n",
      "Train Epoch 2: 100%|██████████| 782/782 [00:15<00:00, 51.47it/s]\n",
      "Val Epoch 2: 100%|██████████| 157/157 [00:02<00:00, 68.15it/s]\n"
     ]
    },
    {
     "name": "stdout",
     "output_type": "stream",
     "text": [
      "Best validation accuracy: 0.9625\n",
      "\n",
      "=== Testing LR: 0.1, Batch Size: 64, Optimizer: SGD ===\n"
     ]
    },
    {
     "name": "stderr",
     "output_type": "stream",
     "text": [
      "Train Epoch 0: 100%|██████████| 782/782 [00:13<00:00, 57.82it/s]\n",
      "Val Epoch 0: 100%|██████████| 157/157 [00:02<00:00, 68.32it/s]\n",
      "Train Epoch 1: 100%|██████████| 782/782 [00:12<00:00, 60.54it/s]\n",
      "Val Epoch 1: 100%|██████████| 157/157 [00:02<00:00, 69.06it/s]\n",
      "Train Epoch 2: 100%|██████████| 782/782 [00:13<00:00, 60.13it/s]\n",
      "Val Epoch 2: 100%|██████████| 157/157 [00:02<00:00, 67.05it/s]\n"
     ]
    },
    {
     "name": "stdout",
     "output_type": "stream",
     "text": [
      "Best validation accuracy: 0.9726\n",
      "\n",
      "=== Testing LR: 0.1, Batch Size: 128, Optimizer: Adam ===\n"
     ]
    },
    {
     "name": "stderr",
     "output_type": "stream",
     "text": [
      "Train Epoch 0: 100%|██████████| 391/391 [00:13<00:00, 28.20it/s]\n",
      "Val Epoch 0: 100%|██████████| 79/79 [00:02<00:00, 30.63it/s]\n",
      "Train Epoch 1: 100%|██████████| 391/391 [00:14<00:00, 26.53it/s]\n",
      "Val Epoch 1: 100%|██████████| 79/79 [00:02<00:00, 33.40it/s]\n",
      "Train Epoch 2: 100%|██████████| 391/391 [00:14<00:00, 27.48it/s]\n",
      "Val Epoch 2: 100%|██████████| 79/79 [00:02<00:00, 28.94it/s]\n"
     ]
    },
    {
     "name": "stdout",
     "output_type": "stream",
     "text": [
      "Best validation accuracy: 0.9618\n",
      "\n",
      "=== Testing LR: 0.1, Batch Size: 128, Optimizer: SGD ===\n"
     ]
    },
    {
     "name": "stderr",
     "output_type": "stream",
     "text": [
      "Train Epoch 0: 100%|██████████| 391/391 [00:13<00:00, 29.55it/s]\n",
      "Val Epoch 0: 100%|██████████| 79/79 [00:02<00:00, 33.55it/s]\n",
      "Train Epoch 1: 100%|██████████| 391/391 [00:12<00:00, 30.67it/s]\n",
      "Val Epoch 1: 100%|██████████| 79/79 [00:02<00:00, 32.67it/s]\n",
      "Train Epoch 2: 100%|██████████| 391/391 [00:13<00:00, 29.74it/s]\n",
      "Val Epoch 2: 100%|██████████| 79/79 [00:02<00:00, 32.33it/s]\n"
     ]
    },
    {
     "name": "stdout",
     "output_type": "stream",
     "text": [
      "Best validation accuracy: 0.9725\n",
      "\n",
      "Best parameters: {'learning_rate': 0.001, 'batch_size': 32, 'optimizer': 'Adam'}\n",
      "Best accuracy: 0.9772\n",
      "\n",
      "============================================================\n",
      "ДОПОЛНИТЕЛЬНОЕ ЗАДАНИЕ: EXPERIMENT WITH FASHIONMNIST\n",
      "============================================================\n"
     ]
    },
    {
     "name": "stderr",
     "output_type": "stream",
     "text": [
      "100.0%\n",
      "100.0%\n",
      "100.0%\n",
      "100.0%\n"
     ]
    },
    {
     "name": "stdout",
     "output_type": "stream",
     "text": [
      "Обучение на FashionMNIST...\n"
     ]
    },
    {
     "name": "stderr",
     "output_type": "stream",
     "text": [
      "Train Epoch 0: 100%|██████████| 782/782 [00:14<00:00, 53.16it/s]\n",
      "Val Epoch 0: 100%|██████████| 157/157 [00:02<00:00, 66.38it/s]\n"
     ]
    },
    {
     "name": "stdout",
     "output_type": "stream",
     "text": [
      "Epoch 0: Train Acc: 0.8218, Val Acc: 0.8478\n"
     ]
    },
    {
     "name": "stderr",
     "output_type": "stream",
     "text": [
      "Train Epoch 1: 100%|██████████| 782/782 [00:13<00:00, 57.32it/s]\n",
      "Val Epoch 1: 100%|██████████| 157/157 [00:02<00:00, 67.65it/s]\n"
     ]
    },
    {
     "name": "stdout",
     "output_type": "stream",
     "text": [
      "Epoch 1: Train Acc: 0.8590, Val Acc: 0.8675\n"
     ]
    },
    {
     "name": "stderr",
     "output_type": "stream",
     "text": [
      "Train Epoch 2: 100%|██████████| 782/782 [00:14<00:00, 54.66it/s]\n",
      "Val Epoch 2: 100%|██████████| 157/157 [00:02<00:00, 69.78it/s]\n"
     ]
    },
    {
     "name": "stdout",
     "output_type": "stream",
     "text": [
      "Epoch 2: Train Acc: 0.8719, Val Acc: 0.8742\n"
     ]
    },
    {
     "name": "stderr",
     "output_type": "stream",
     "text": [
      "Train Epoch 3: 100%|██████████| 782/782 [00:13<00:00, 55.91it/s]\n",
      "Val Epoch 3: 100%|██████████| 157/157 [00:02<00:00, 69.27it/s]\n"
     ]
    },
    {
     "name": "stdout",
     "output_type": "stream",
     "text": [
      "Epoch 3: Train Acc: 0.8810, Val Acc: 0.8738\n"
     ]
    },
    {
     "name": "stderr",
     "output_type": "stream",
     "text": [
      "Train Epoch 4: 100%|██████████| 782/782 [00:14<00:00, 54.44it/s]\n",
      "Val Epoch 4: 100%|██████████| 157/157 [00:02<00:00, 70.16it/s]\n"
     ]
    },
    {
     "name": "stdout",
     "output_type": "stream",
     "text": [
      "Epoch 4: Train Acc: 0.8859, Val Acc: 0.8764\n"
     ]
    },
    {
     "name": "stderr",
     "output_type": "stream",
     "text": [
      "Testing: 100%|██████████| 157/157 [00:02<00:00, 70.57it/s]\n"
     ]
    },
    {
     "data": {
      "image/png": "[encoded data removed]",
      "text/plain": [
       "<Figure size 1000x800 with 2 Axes>"
      ]
     },
     "metadata": {},
     "output_type": "display_data"
    },
    {
     "name": "stdout",
     "output_type": "stream",
     "text": [
      "Точность на FashionMNIST: 0.8755\n",
      "\n",
      "============================================================\n",
      "ИТОГОВЫЕ РЕЗУЛЬТАТЫ\n",
      "============================================================\n",
      "MNIST Test Accuracy: 0.9835\n",
      "FashionMNIST Test Accuracy: 0.8755\n",
      "Лучшие параметры из Grid Search: {'learning_rate': 0.001, 'batch_size': 32, 'optimizer': 'Adam'}\n",
      "\n",
      "============================================================\n",
      "ИНСТРУКЦИЯ ДЛЯ TENSORBOARD\n",
      "============================================================\n",
      "Для просмотра графиков в TensorBoard выполните в терминале:\n",
      "tensorboard --logdir ./runs/mnist_experiment\n",
      "\n",
      "Или в Jupyter Notebook:\n",
      "%load_ext tensorboard\n",
      "%tensorboard --logdir ./runs/mnist_experiment\n"
     ]
    }
   ],
   "source": [
    "\n",
    "# Основной эксперимент с MNIST\n",
    "model, test_accuracy, best_params = main()\n",
    "    \n",
    "    \n",
    "# Дополнительный эксперимент с FashionMNIST\n",
    "fashion_accuracy = fashion_mnist_experiment()\n",
    "    \n",
    "print(\"\\n\" + \"=\"*60)\n",
    "print(\"ИТОГОВЫЕ РЕЗУЛЬТАТЫ\")\n",
    "print(\"=\"*60)\n",
    "print(f\"MNIST Test Accuracy: {test_accuracy:.4f}\")\n",
    "print(f\"FashionMNIST Test Accuracy: {fashion_accuracy:.4f}\")\n",
    "print(f\"Лучшие параметры из Grid Search: {best_params}\")\n",
    "    \n",
    "# Инструкция для TensorBoard\n",
    "print(\"Для просмотра графиков в TensorBoard выполните в терминале:\")\n",
    "print(\"tensorboard --logdir ./runs/mnist_experiment\")\n",
    "print(\"\\nИли в Jupyter Notebook:\")\n",
    "print(\"%load_ext tensorboard\")\n",
    "print(\"%tensorboard --logdir ./runs/mnist_experiment\")\n",
    "    \n",
    "    "
   ]
  },
  {
   "cell_type": "markdown",
   "id": "c75e3662",
   "metadata": {},
   "source": [
    "# Итоговые выводы по эксперименту\n",
    "\n",
    "## MNIST\n",
    "\n",
    "- **Точность на тестовой выборке:**  \n",
    "  MNIST Test Accuracy: 0.9835\n",
    "\n",
    "- **Лучшая точность на валидации:**  \n",
    "  Best validation accuracy: 0.9772\n",
    "\n",
    "- **Лучшие параметры по результатам Grid Search:**  \n",
    "  - Learning rate: 0.001\n",
    "  - Batch size: 32\n",
    "  - Optimizer: Adam\n",
    "\n",
    "## FashionMNIST\n",
    "\n",
    "- **Точность на тестовой выборке:**  \n",
    "  FashionMNIST Test Accuracy: 0.8755\n",
    "\n",
    "---\n",
    "\n",
    "## Общие замечания\n",
    "\n",
    "- Модель успешно обучается и на MNIST, и на FashionMNIST.\n",
    "- Используется ранняя остановка (Early Stopping) и автоматическое снижение learning rate.\n",
    "- Визуализация confusion matrix и предсказаний помогает анализировать ошибки модели.\n",
    "- Для подбора гиперпараметров реализован простой Grid Search.\n",
    "\n",
    "## Как посмотреть логи в TensorBoard\n",
    "\n",
    "Выполните в терминале:\n",
    "```\n",
    "tensorboard --logdir ./runs/mnist_experiment\n",
    "```\n",
    "или в Jupyter Notebook:\n",
    "```\n",
    "%load_ext tensorboard\n",
    "%tensorboard --logdir ./runs/mnist_experiment\n",
    "```"
   ]
  },
  {
   "cell_type": "markdown",
   "id": "47a8a5f7",
   "metadata": {},
   "source": []
  }
 ],
 "metadata": {
  "kernelspec": {
   "display_name": "Python 3",
   "language": "python",
   "name": "python3"
  },
  "language_info": {
   "codemirror_mode": {
    "name": "ipython",
    "version": 3
   },
   "file_extension": ".py",
   "mimetype": "text/x-python",
   "name": "python",
   "nbconvert_exporter": "python",
   "pygments_lexer": "ipython3",
   "version": "3.11.5"
  }
 },
 "nbformat": 4,
 "nbformat_minor": 5
}
