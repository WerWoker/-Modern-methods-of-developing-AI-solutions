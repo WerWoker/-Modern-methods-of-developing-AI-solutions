{
 "cells": [
  {
   "cell_type": "markdown",
   "id": "5da6e2e5",
   "metadata": {},
   "source": [
    "## 1. Импорт библиотек"
   ]
  },
  {
   "cell_type": "code",
   "execution_count": 20,
   "id": "700604af",
   "metadata": {},
   "outputs": [],
   "source": [
    "import numpy as np\n",
    "import pandas as pd\n",
    "import matplotlib.pyplot as plt\n",
    "from sklearn.model_selection import train_test_split\n",
    "from sklearn.preprocessing import MinMaxScaler, StandardScaler\n",
    "from sklearn.svm import SVC\n",
    "from sklearn.ensemble import RandomForestClassifier\n",
    "from sklearn.metrics import (accuracy_score, f1_score, precision_score, \n",
    "                             recall_score, classification_report, \n",
    "                             confusion_matrix, ConfusionMatrixDisplay)\n",
    "from sklearn.datasets import load_breast_cancer, load_wine, load_iris # load_wine - Классификация сортов вина по химическим свойствам\n",
    "                                                                      # load_iris - Классификация видов ириса по морфологическим признакам цветка\n",
    "                                                                      # load_breast_cancer - Диагностика рака молочной железы (задача бинарной классификации)"
   ]
  },
  {
   "cell_type": "markdown",
   "id": "7ed3847a",
   "metadata": {},
   "source": [
    "## 2. Загрузка и анализ данных\n"
   ]
  },
  {
   "cell_type": "code",
   "execution_count": 21,
   "id": "f6aae252",
   "metadata": {},
   "outputs": [
    {
     "name": "stdout",
     "output_type": "stream",
     "text": [
      "Информация о датасете:\n",
      "Признаки: ['alcohol', 'malic_acid', 'ash', 'alcalinity_of_ash', 'magnesium', 'total_phenols', 'flavanoids', 'nonflavanoid_phenols', 'proanthocyanins', 'color_intensity', 'hue', 'od280/od315_of_diluted_wines', 'proline']\n",
      "Классы: ['class_0' 'class_1' 'class_2']\n",
      "Размерность данных: (178, 13)\n",
      "Распределение классов: {'class_0': 59, 'class_1': 71, 'class_2': 48}\n"
     ]
    }
   ],
   "source": [
    "dataset = load_wine() # load_wine(), load_iris(), load_breast_cancer()\n",
    "X = dataset.data # Признаки\n",
    "y = dataset.target # Целевые метки\n",
    "feature_names = dataset.feature_names # Имена признаков\n",
    "target_names = dataset.target_names # Имена классов\n",
    "\n",
    "print(\"Информация о датасете:\")\n",
    "print(f\"Признаки: {feature_names}\")\n",
    "print(f\"Классы: {target_names}\")\n",
    "print(f\"Размерность данных: {X.shape}\")\n",
    "print(f\"Распределение классов: {dict(zip(target_names, np.bincount(y)))}\")"
   ]
  },
  {
   "cell_type": "markdown",
   "id": "554b4c73",
   "metadata": {},
   "source": [
    "# 3. Нормализация признаков\n"
   ]
  },
  {
   "cell_type": "code",
   "execution_count": 22,
   "id": "1273f657",
   "metadata": {},
   "outputs": [],
   "source": [
    "# MinMaxScaler\n",
    "minmax_scaler = MinMaxScaler() # Инициализация\n",
    "X_minmax = minmax_scaler.fit_transform(X) # Применение\n",
    "\n",
    "# StandardScaler\n",
    "standard_scaler = StandardScaler() # Инициализация\n",
    "X_standard = standard_scaler.fit_transform(X) # Применение"
   ]
  },
  {
   "cell_type": "markdown",
   "id": "3dfb413c",
   "metadata": {},
   "source": [
    "# 4. Разделение на тренировочную и тестовую выборки\n"
   ]
  },
  {
   "cell_type": "code",
   "execution_count": 23,
   "id": "9df8e8a2",
   "metadata": {},
   "outputs": [],
   "source": [
    "# Разделение на обучающую и тестовую выборки\n",
    "X_train, X_test, y_train, y_test = train_test_split( \n",
    "    X_standard, y, \n",
    "    test_size=0.3, \n",
    "    random_state=42,\n",
    "    stratify=y\n",
    ")"
   ]
  },
  {
   "cell_type": "markdown",
   "id": "03c493f4",
   "metadata": {},
   "source": [
    "# 5. Обучение моделей\n"
   ]
  },
  {
   "cell_type": "code",
   "execution_count": 24,
   "id": "a7870c5a",
   "metadata": {},
   "outputs": [
    {
     "data": {
      "text/html": [
       "<style>#sk-container-id-3 {color: black;}#sk-container-id-3 pre{padding: 0;}#sk-container-id-3 div.sk-toggleable {background-color: white;}#sk-container-id-3 label.sk-toggleable__label {cursor: pointer;display: block;width: 100%;margin-bottom: 0;padding: 0.3em;box-sizing: border-box;text-align: center;}#sk-container-id-3 label.sk-toggleable__label-arrow:before {content: \"▸\";float: left;margin-right: 0.25em;color: #696969;}#sk-container-id-3 label.sk-toggleable__label-arrow:hover:before {color: black;}#sk-container-id-3 div.sk-estimator:hover label.sk-toggleable__label-arrow:before {color: black;}#sk-container-id-3 div.sk-toggleable__content {max-height: 0;max-width: 0;overflow: hidden;text-align: left;background-color: #f0f8ff;}#sk-container-id-3 div.sk-toggleable__content pre {margin: 0.2em;color: black;border-radius: 0.25em;background-color: #f0f8ff;}#sk-container-id-3 input.sk-toggleable__control:checked~div.sk-toggleable__content {max-height: 200px;max-width: 100%;overflow: auto;}#sk-container-id-3 input.sk-toggleable__control:checked~label.sk-toggleable__label-arrow:before {content: \"▾\";}#sk-container-id-3 div.sk-estimator input.sk-toggleable__control:checked~label.sk-toggleable__label {background-color: #d4ebff;}#sk-container-id-3 div.sk-label input.sk-toggleable__control:checked~label.sk-toggleable__label {background-color: #d4ebff;}#sk-container-id-3 input.sk-hidden--visually {border: 0;clip: rect(1px 1px 1px 1px);clip: rect(1px, 1px, 1px, 1px);height: 1px;margin: -1px;overflow: hidden;padding: 0;position: absolute;width: 1px;}#sk-container-id-3 div.sk-estimator {font-family: monospace;background-color: #f0f8ff;border: 1px dotted black;border-radius: 0.25em;box-sizing: border-box;margin-bottom: 0.5em;}#sk-container-id-3 div.sk-estimator:hover {background-color: #d4ebff;}#sk-container-id-3 div.sk-parallel-item::after {content: \"\";width: 100%;border-bottom: 1px solid gray;flex-grow: 1;}#sk-container-id-3 div.sk-label:hover label.sk-toggleable__label {background-color: #d4ebff;}#sk-container-id-3 div.sk-serial::before {content: \"\";position: absolute;border-left: 1px solid gray;box-sizing: border-box;top: 0;bottom: 0;left: 50%;z-index: 0;}#sk-container-id-3 div.sk-serial {display: flex;flex-direction: column;align-items: center;background-color: white;padding-right: 0.2em;padding-left: 0.2em;position: relative;}#sk-container-id-3 div.sk-item {position: relative;z-index: 1;}#sk-container-id-3 div.sk-parallel {display: flex;align-items: stretch;justify-content: center;background-color: white;position: relative;}#sk-container-id-3 div.sk-item::before, #sk-container-id-3 div.sk-parallel-item::before {content: \"\";position: absolute;border-left: 1px solid gray;box-sizing: border-box;top: 0;bottom: 0;left: 50%;z-index: -1;}#sk-container-id-3 div.sk-parallel-item {display: flex;flex-direction: column;z-index: 1;position: relative;background-color: white;}#sk-container-id-3 div.sk-parallel-item:first-child::after {align-self: flex-end;width: 50%;}#sk-container-id-3 div.sk-parallel-item:last-child::after {align-self: flex-start;width: 50%;}#sk-container-id-3 div.sk-parallel-item:only-child::after {width: 0;}#sk-container-id-3 div.sk-dashed-wrapped {border: 1px dashed gray;margin: 0 0.4em 0.5em 0.4em;box-sizing: border-box;padding-bottom: 0.4em;background-color: white;}#sk-container-id-3 div.sk-label label {font-family: monospace;font-weight: bold;display: inline-block;line-height: 1.2em;}#sk-container-id-3 div.sk-label-container {text-align: center;}#sk-container-id-3 div.sk-container {/* jupyter's `normalize.less` sets `[hidden] { display: none; }` but bootstrap.min.css set `[hidden] { display: none !important; }` so we also need the `!important` here to be able to override the default hidden behavior on the sphinx rendered scikit-learn.org. See: https://github.com/scikit-learn/scikit-learn/issues/21755 */display: inline-block !important;position: relative;}#sk-container-id-3 div.sk-text-repr-fallback {display: none;}</style><div id=\"sk-container-id-3\" class=\"sk-top-container\"><div class=\"sk-text-repr-fallback\"><pre>RandomForestClassifier(random_state=42)</pre><b>In a Jupyter environment, please rerun this cell to show the HTML representation or trust the notebook. <br />On GitHub, the HTML representation is unable to render, please try loading this page with nbviewer.org.</b></div><div class=\"sk-container\" hidden><div class=\"sk-item\"><div class=\"sk-estimator sk-toggleable\"><input class=\"sk-toggleable__control sk-hidden--visually\" id=\"sk-estimator-id-3\" type=\"checkbox\" checked><label for=\"sk-estimator-id-3\" class=\"sk-toggleable__label sk-toggleable__label-arrow\">RandomForestClassifier</label><div class=\"sk-toggleable__content\"><pre>RandomForestClassifier(random_state=42)</pre></div></div></div></div></div>"
      ],
      "text/plain": [
       "RandomForestClassifier(random_state=42)"
      ]
     },
     "execution_count": 24,
     "metadata": {},
     "output_type": "execute_result"
    }
   ],
   "source": [
    "# Проверка распределения классов в обучающей и тестовой выборках\n",
    "# SVM\n",
    "svm_model = SVC(kernel='rbf', random_state=42)\n",
    "svm_model.fit(X_train, y_train)\n",
    "\n",
    "# Random Forest\n",
    "rf_model = RandomForestClassifier(n_estimators=100, random_state=42)\n",
    "rf_model.fit(X_train, y_train)\n"
   ]
  },
  {
   "cell_type": "markdown",
   "id": "3fc26783",
   "metadata": {},
   "source": [
    "# 6. Оценка моделей\n"
   ]
  },
  {
   "cell_type": "code",
   "execution_count": 25,
   "id": "8d52ef81",
   "metadata": {},
   "outputs": [
    {
     "name": "stdout",
     "output_type": "stream",
     "text": [
      "\n",
      "SVM Metrics:\n",
      "Accuracy: 0.9814814814814815\n",
      "Precision: 0.9823232323232324\n",
      "Recall: 0.9814814814814815\n",
      "F1-Score: 0.9813775282901185\n",
      "\n",
      "Classification Report:\n",
      "              precision    recall  f1-score   support\n",
      "\n",
      "     class_0       1.00      1.00      1.00        18\n",
      "     class_1       0.95      1.00      0.98        21\n",
      "     class_2       1.00      0.93      0.97        15\n",
      "\n",
      "    accuracy                           0.98        54\n",
      "   macro avg       0.98      0.98      0.98        54\n",
      "weighted avg       0.98      0.98      0.98        54\n",
      "\n",
      "\n",
      "Random Forest Metrics:\n",
      "Accuracy: 1.0\n",
      "Precision: 1.0\n",
      "Recall: 1.0\n",
      "F1-Score: 1.0\n",
      "\n",
      "Classification Report:\n",
      "              precision    recall  f1-score   support\n",
      "\n",
      "     class_0       1.00      1.00      1.00        18\n",
      "     class_1       1.00      1.00      1.00        21\n",
      "     class_2       1.00      1.00      1.00        15\n",
      "\n",
      "    accuracy                           1.00        54\n",
      "   macro avg       1.00      1.00      1.00        54\n",
      "weighted avg       1.00      1.00      1.00        54\n",
      "\n"
     ]
    }
   ],
   "source": [
    "# Функция для оценки модели\n",
    "def evaluate_model(model, X_test, y_test, model_name):\n",
    "    y_pred = model.predict(X_test)\n",
    "    \n",
    "    print(f\"\\n{model_name} Metrics:\")\n",
    "    print(\"Accuracy:\", accuracy_score(y_test, y_pred))\n",
    "    print(\"Precision:\", precision_score(y_test, y_pred, average='weighted'))\n",
    "    print(\"Recall:\", recall_score(y_test, y_pred, average='weighted'))\n",
    "    print(\"F1-Score:\", f1_score(y_test, y_pred, average='weighted'))\n",
    "    \n",
    "    print(\"\\nClassification Report:\")\n",
    "    print(classification_report(y_test, y_pred, target_names=target_names))\n",
    "    \n",
    "    return y_pred\n",
    "\n",
    "# Получение предсказаний\n",
    "svm_pred = evaluate_model(svm_model, X_test, y_test, \"SVM\") # Предсказания SVM\n",
    "rf_pred = evaluate_model(rf_model, X_test, y_test, \"Random Forest\") # Предсказания RF\n"
   ]
  },
  {
   "cell_type": "markdown",
   "id": "c5956f80",
   "metadata": {},
   "source": [
    "# 7. Построение матриц ошибок\n"
   ]
  },
  {
   "cell_type": "code",
   "execution_count": 26,
   "id": "581507d7",
   "metadata": {},
   "outputs": [
    {
     "data": {
      "image/png": "[encoded data removed]",
      "text/plain": [
       "<Figure size 1200x500 with 4 Axes>"
      ]
     },
     "metadata": {},
     "output_type": "display_data"
    },
    {
     "name": "stdout",
     "output_type": "stream",
     "text": [
      "\n",
      "Сводная таблица метрик:\n",
      "           Model  Accuracy  Precision    Recall  F1-Score\n",
      "0            SVM  0.981481   0.982323  0.981481  0.981378\n",
      "1  Random Forest  1.000000   1.000000  1.000000  1.000000\n"
     ]
    }
   ],
   "source": [
    "# Визуализация матриц ошибок\n",
    "fig, (ax1, ax2) = plt.subplots(1, 2, figsize=(12, 5))\n",
    "\n",
    "# Матрица ошибок для SVM\n",
    "cm_svm = confusion_matrix(y_test, svm_pred)\n",
    "disp_svm = ConfusionMatrixDisplay(confusion_matrix=cm_svm, \n",
    "                                  display_labels=target_names)\n",
    "disp_svm.plot(ax=ax1, cmap='Blues')\n",
    "ax1.set_title('SVM Confusion Matrix')\n",
    "\n",
    "# Матрица ошибок для Random Forest\n",
    "cm_rf = confusion_matrix(y_test, rf_pred)\n",
    "disp_rf = ConfusionMatrixDisplay(confusion_matrix=cm_rf, \n",
    "                                 display_labels=target_names)\n",
    "disp_rf.plot(ax=ax2, cmap='Blues')\n",
    "ax2.set_title('Random Forest Confusion Matrix')\n",
    "\n",
    "plt.tight_layout()\n",
    "plt.show()\n",
    "\n",
    "# Сводная таблица метрик\n",
    "metrics_df = pd.DataFrame({\n",
    "    'Model': ['SVM', 'Random Forest'],\n",
    "    'Accuracy': [accuracy_score(y_test, svm_pred), accuracy_score(y_test, rf_pred)],\n",
    "    'Precision': [precision_score(y_test, svm_pred, average='weighted'), \n",
    "                 precision_score(y_test, rf_pred, average='weighted')],\n",
    "    'Recall': [recall_score(y_test, svm_pred, average='weighted'), \n",
    "              recall_score(y_test, rf_pred, average='weighted')],\n",
    "    'F1-Score': [f1_score(y_test, svm_pred, average='weighted'), \n",
    "                f1_score(y_test, rf_pred, average='weighted')]\n",
    "}) # Создание DataFrame\n",
    "\n",
    "print(\"\\nСводная таблица метрик:\")\n",
    "print(metrics_df)"
   ]
  },
  {
   "cell_type": "markdown",
   "id": "9f8a8781",
   "metadata": {},
   "source": [
    "Выводы:\n",
    "\n",
    "1) Обе модели (SVM и Random Forest) показали высокое качество классификации на выбранном датасете: значения accuracy, precision, recall и F1-score близки к 1, что говорит о хорошей способности моделей различать классы.\n",
    "\n",
    "2) Матрицы ошибок показывают, что обе модели допускают минимальное количество ошибок. Большинство объектов классифицируются правильно (значения на главной диагонали матриц максимальны), а ошибки встречаются редко и только для отдельных классов.\n",
    "\n",
    "3) Методы нормализации признаков (MinMax и Standard) успешно подготовили данные для обучения, что положительно сказалось на результатах моделей.\n",
    "\n",
    "4) SVM и Random Forest продемонстрировали сбалансированные метрики precision и recall для всех классов, что особенно важно при работе с несбалансированными данными.\n",
    "\n",
    "5) Сравнение моделей показывает, что обе подходят для данной задачи, однако в зависимости от конкретного датасета и требований к интерпретируемости или скорости работы можно выбрать наиболее подходящую."
   ]
  },
  {
   "cell_type": "markdown",
   "id": "cfb1649f",
   "metadata": {},
   "source": []
  }
 ],
 "metadata": {
  "kernelspec": {
   "display_name": "base",
   "language": "python",
   "name": "python3"
  },
  "language_info": {
   "codemirror_mode": {
    "name": "ipython",
    "version": 3
   },
   "file_extension": ".py",
   "mimetype": "text/x-python",
   "name": "python",
   "nbconvert_exporter": "python",
   "pygments_lexer": "ipython3",
   "version": "3.11.5"
  }
 },
 "nbformat": 4,
 "nbformat_minor": 5
}
